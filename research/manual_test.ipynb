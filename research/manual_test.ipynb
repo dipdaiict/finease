{
 "cells": [
  {
   "cell_type": "code",
   "execution_count": 2,
   "metadata": {},
   "outputs": [
    {
     "name": "stdout",
     "output_type": "stream",
     "text": [
      "Requirement already satisfied: finease==0.0.1 in c:\\users\\dippa\\appdata\\local\\programs\\python\\python310\\lib\\site-packages (0.0.1)\n",
      "Requirement already satisfied: requests in c:\\users\\dippa\\appdata\\local\\programs\\python\\python310\\lib\\site-packages (from finease==0.0.1) (2.31.0)\n",
      "Requirement already satisfied: ensure in c:\\users\\dippa\\appdata\\local\\programs\\python\\python310\\lib\\site-packages (from finease==0.0.1) (1.0.4)\n",
      "Requirement already satisfied: six>=1.11.0 in c:\\users\\dippa\\appdata\\roaming\\python\\python310\\site-packages (from ensure->finease==0.0.1) (1.16.0)\n",
      "Requirement already satisfied: charset-normalizer<4,>=2 in c:\\users\\dippa\\appdata\\local\\programs\\python\\python310\\lib\\site-packages (from requests->finease==0.0.1) (3.3.2)\n",
      "Requirement already satisfied: idna<4,>=2.5 in c:\\users\\dippa\\appdata\\local\\programs\\python\\python310\\lib\\site-packages (from requests->finease==0.0.1) (3.6)\n",
      "Requirement already satisfied: urllib3<3,>=1.21.1 in c:\\users\\dippa\\appdata\\local\\programs\\python\\python310\\lib\\site-packages (from requests->finease==0.0.1) (2.1.0)\n",
      "Requirement already satisfied: certifi>=2017.4.17 in c:\\users\\dippa\\appdata\\local\\programs\\python\\python310\\lib\\site-packages (from requests->finease==0.0.1) (2023.11.17)\n",
      "500.0\n"
     ]
    }
   ],
   "source": [
    "!pip install finease==0.0.1\n",
    "\n",
    "from finease import simple_interest\n",
    "result = simple_interest(1000, 10, 5)\n",
    "print(result)"
   ]
  },
  {
   "cell_type": "code",
   "execution_count": null,
   "metadata": {},
   "outputs": [],
   "source": []
  }
 ],
 "metadata": {
  "kernelspec": {
   "display_name": "Python 3",
   "language": "python",
   "name": "python3"
  },
  "language_info": {
   "codemirror_mode": {
    "name": "ipython",
    "version": 3
   },
   "file_extension": ".py",
   "mimetype": "text/x-python",
   "name": "python",
   "nbconvert_exporter": "python",
   "pygments_lexer": "ipython3",
   "version": "3.10.0"
  }
 },
 "nbformat": 4,
 "nbformat_minor": 2
}
